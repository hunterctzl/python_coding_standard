{
 "cells": [
  {
   "cell_type": "code",
   "execution_count": 1,
   "metadata": {
    "ExecuteTime": {
     "end_time": "2022-02-18T02:00:38.460037Z",
     "start_time": "2022-02-18T02:00:34.808075Z"
    }
   },
   "outputs": [],
   "source": [
    "from package_template.extract import spark_read\n",
    "from package_template.load import spark_write\n",
    "from package_template.preprocessing import ShoppingListTransformer\n",
    "from package_template.models import AssociationRuleModel\n",
    "from package_template.postprocessing import ScoreNormalization\n",
    "from pyspark.ml import Pipeline\n",
    "\n",
    "import datetime"
   ]
  },
  {
   "cell_type": "code",
   "execution_count": 2,
   "metadata": {
    "ExecuteTime": {
     "end_time": "2022-02-18T02:00:47.014652Z",
     "start_time": "2022-02-18T02:00:43.347373Z"
    }
   },
   "outputs": [
    {
     "name": "stderr",
     "output_type": "stream",
     "text": [
      "Setting default log level to \"WARN\".\n",
      "To adjust logging level use sc.setLogLevel(newLevel). For SparkR, use setLogLevel(newLevel).\n",
      "24/11/13 08:01:57 WARN NativeCodeLoader: Unable to load native-hadoop library for your platform... using builtin-java classes where applicable\n"
     ]
    }
   ],
   "source": [
    "from pyspark.sql import SparkSession\n",
    "spark = SparkSession.builder.appName(\"test_pipeline\").\\\n",
    "config(\"spark.ui.port\",\"4050\").\\\n",
    "config(\"spark.driver.memory\",\"15g\").\\\n",
    "config(\"spark.driver.storeageFraction\",\"0.3\").\\\n",
    "getOrCreate()\n",
    "sc = spark.sparkContext"
   ]
  },
  {
   "cell_type": "markdown",
   "metadata": {},
   "source": [
    "# Data Loading and preprocessing"
   ]
  },
  {
   "cell_type": "code",
   "execution_count": 3,
   "metadata": {},
   "outputs": [
    {
     "name": "stderr",
     "output_type": "stream",
     "text": [
      "                                                                                \r"
     ]
    },
    {
     "name": "stdout",
     "output_type": "stream",
     "text": [
      "+--------+-------+\n",
      "|trans_id|item_id|\n",
      "+--------+-------+\n",
      "|       3|      A|\n",
      "|       3|      C|\n",
      "|       6|      A|\n",
      "|       6|      B|\n",
      "|       1|      A|\n",
      "|       5|      B|\n",
      "|       4|      D|\n",
      "|       4|      C|\n",
      "|       1|      B|\n",
      "|       2|      B|\n",
      "|       4|      E|\n",
      "|       2|      A|\n",
      "|       5|      A|\n",
      "|       1|      C|\n",
      "+--------+-------+\n",
      "\n"
     ]
    }
   ],
   "source": [
    "df = spark_read(\n",
    "    spark=spark,\n",
    "    file_path=\"../../tests/data/test_spark_load_parquet\",\n",
    "    file_format=\"parquet\")\n",
    "df.show()"
   ]
  },
  {
   "cell_type": "markdown",
   "metadata": {},
   "source": [
    "# Use Association Rule model to make recommendations"
   ]
  },
  {
   "cell_type": "markdown",
   "metadata": {},
   "source": [
    "## build model"
   ]
  },
  {
   "cell_type": "code",
   "execution_count": 6,
   "metadata": {
    "ExecuteTime": {
     "end_time": "2022-02-18T02:16:59.100478Z",
     "start_time": "2022-02-18T02:16:14.039077Z"
    }
   },
   "outputs": [],
   "source": [
    "transformer = ShoppingListTransformer(\n",
    "             transaction_col = \"trans_id\",\n",
    "             item_col = \"item_id\",\n",
    "             output_col = \"shopping_list\",\n",
    "             )\n",
    "model = AssociationRuleModel(\n",
    "                item_list_col = \"shopping_list\",\n",
    "                min_support = 0.2,\n",
    "                min_confidence = 0.2,\n",
    "                min_lift=0.5,\n",
    "                output_format=\"dataframe\",\n",
    "                provide_score=True,\n",
    "                candidate_count=3,\n",
    "            )\n",
    "score_transformation = ScoreNormalization(\n",
    "         group_col=\"item_id\",\n",
    "         rec_col=\"recommendations\",\n",
    "         score_col=\"score\",\n",
    "         output_format=\"dataframe\",\n",
    "         provide_score=True,\n",
    "         transformation_method='log'\n",
    "     )\n",
    "pipeline = Pipeline(stages=[transformer, model, score_transformation]).fit(df)"
   ]
  },
  {
   "cell_type": "markdown",
   "metadata": {},
   "source": [
    "## test model result"
   ]
  },
  {
   "cell_type": "code",
   "execution_count": 7,
   "metadata": {
    "ExecuteTime": {
     "end_time": "2022-02-18T02:18:23.974822Z",
     "start_time": "2022-02-18T02:17:16.188821Z"
    }
   },
   "outputs": [
    {
     "name": "stdout",
     "output_type": "stream",
     "text": [
      "+-------+---------------+----------+\n",
      "|item_id|recommendations|     score|\n",
      "+-------+---------------+----------+\n",
      "|      A|         [B, C]|[1.0, 0.0]|\n",
      "|      B|            [A]|     [1.0]|\n",
      "|      C|            [A]|     [0.0]|\n",
      "+-------+---------------+----------+\n",
      "\n"
     ]
    }
   ],
   "source": [
    "# predict for all\n",
    "result = pipeline.transform(df)\n",
    "result.show()"
   ]
  },
  {
   "cell_type": "markdown",
   "metadata": {},
   "source": [
    "## Save result"
   ]
  },
  {
   "cell_type": "code",
   "execution_count": 8,
   "metadata": {
    "ExecuteTime": {
     "end_time": "2022-02-18T02:18:26.263705Z",
     "start_time": "2022-02-18T02:18:26.259547Z"
    },
    "pycharm": {
     "name": "#%%\n"
    }
   },
   "outputs": [],
   "source": [
    "spark_write(\n",
    "            data=result,\n",
    "            file_path=\"../../tests/data/test_spark_write_parquet_result\",\n",
    "            file_format=\"parquet\",\n",
    "        )"
   ]
  },
  {
   "cell_type": "code",
   "execution_count": null,
   "metadata": {},
   "outputs": [],
   "source": []
  }
 ],
 "metadata": {
  "kernelspec": {
   "display_name": "Python 3 (ipykernel)",
   "language": "python",
   "name": "python3"
  },
  "language_info": {
   "codemirror_mode": {
    "name": "ipython",
    "version": 3
   },
   "file_extension": ".py",
   "mimetype": "text/x-python",
   "name": "python",
   "nbconvert_exporter": "python",
   "pygments_lexer": "ipython3",
   "version": "3.9.6"
  },
  "toc": {
   "base_numbering": 1,
   "nav_menu": {},
   "number_sections": true,
   "sideBar": true,
   "skip_h1_title": false,
   "title_cell": "Table of Contents",
   "title_sidebar": "Contents",
   "toc_cell": false,
   "toc_position": {},
   "toc_section_display": true,
   "toc_window_display": false
  },
  "varInspector": {
   "cols": {
    "lenName": 16,
    "lenType": 16,
    "lenVar": 40
   },
   "kernels_config": {
    "python": {
     "delete_cmd_postfix": "",
     "delete_cmd_prefix": "del ",
     "library": "var_list.py",
     "varRefreshCmd": "print(var_dic_list())"
    },
    "r": {
     "delete_cmd_postfix": ") ",
     "delete_cmd_prefix": "rm(",
     "library": "var_list.r",
     "varRefreshCmd": "cat(var_dic_list()) "
    }
   },
   "types_to_exclude": [
    "module",
    "function",
    "builtin_function_or_method",
    "instance",
    "_Feature"
   ],
   "window_display": false
  }
 },
 "nbformat": 4,
 "nbformat_minor": 4
}
